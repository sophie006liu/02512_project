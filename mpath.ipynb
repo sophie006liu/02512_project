{
 "cells": [
  {
   "cell_type": "code",
   "execution_count": null,
   "metadata": {},
   "outputs": [],
   "source": [
    "import pandas as pd \n",
    "landmarks = pd.read_csv(\"centroids.csv\")\n",
    "\n",
    "landmarks[landmarks < 0 ] = 0\n",
    " \n",
    "landmarks = landmarks.iloc[: , 1:]\n"
   ]
  },
  {
   "cell_type": "code",
   "execution_count": 24,
   "metadata": {},
   "outputs": [
    {
     "data": {
      "text/plain": [
       "0        0.0\n",
       "1        0.0\n",
       "2        2.4\n",
       "3        0.0\n",
       "4        0.0\n",
       "        ... \n",
       "23574    0.6\n",
       "23575    0.2\n",
       "23576    0.0\n",
       "23577    0.0\n",
       "23578    8.6\n",
       "Name: 9, Length: 23579, dtype: float64"
      ]
     },
     "execution_count": 24,
     "metadata": {},
     "output_type": "execute_result"
    }
   ],
   "source": [
    "landmarks.iloc[9]"
   ]
  },
  {
   "cell_type": "code",
   "execution_count": null,
   "metadata": {},
   "outputs": [],
   "source": [
    "import pandas as pd\n",
    "\n",
    "random_sample = pd.read_csv(\"cell_samples.csv\").T\n"
   ]
  },
  {
   "cell_type": "code",
   "execution_count": 93,
   "metadata": {},
   "outputs": [],
   "source": [
    "from scipy.spatial import distance\n",
    "import numpy as np\n",
    "\n",
    "neighbor_network = dict()\n",
    "\n",
    "for i in range(1,100):\n",
    "    cell = random_sample.iloc[i].astype(int)\n",
    "    \n",
    "    c = cell.to_numpy()\n",
    "     \n",
    "    dists = [(j, np.linalg.norm(c - landmarks.iloc[j].astype(int).to_numpy())) for j in range(10)]\n",
    "    dists.sort(key=lambda x:x[1])\n",
    "    \n",
    "    l = min(dists[0][0], dists[1][0])\n",
    "    r = max(dists[0][0], dists[1][0])\n",
    "    if (l, r) not in neighbor_network:\n",
    "        neighbor_network[(l, r)] = 1\n",
    "    else:\n",
    "        neighbor_network[(l, r) ] += 1"
   ]
  },
  {
   "cell_type": "code",
   "execution_count": 101,
   "metadata": {},
   "outputs": [],
   "source": [
    "adj_list = list(neighbor_network.items())\n",
    "adj_list.sort(key = lambda x:x[1], reverse = True)"
   ]
  },
  {
   "cell_type": "code",
   "execution_count": 102,
   "metadata": {},
   "outputs": [
    {
     "data": {
      "text/plain": [
       "[((1, 2), 15),\n",
       " ((1, 9), 14),\n",
       " ((2, 6), 13),\n",
       " ((0, 3), 12),\n",
       " ((2, 8), 12),\n",
       " ((1, 5), 10),\n",
       " ((5, 9), 6),\n",
       " ((4, 5), 6),\n",
       " ((7, 9), 2),\n",
       " ((6, 8), 2),\n",
       " ((8, 9), 1),\n",
       " ((5, 8), 1),\n",
       " ((5, 7), 1),\n",
       " ((1, 7), 1),\n",
       " ((1, 6), 1),\n",
       " ((3, 6), 1),\n",
       " ((3, 4), 1)]"
      ]
     },
     "execution_count": 102,
     "metadata": {},
     "output_type": "execute_result"
    }
   ],
   "source": [
    "vertices = {}"
   ]
  },
  {
   "cell_type": "code",
   "execution_count": 108,
   "metadata": {},
   "outputs": [
    {
     "name": "stdout",
     "output_type": "stream",
     "text": [
      "[True, True, True, True, True, True, True, True, True, True]\n",
      "-85\n"
     ]
    }
   ],
   "source": [
    "[(-15, 1, 2), (-14, 1, 9), (-13, 2, 6), (-12, 0, 3), (-12, 2, 8), (-10, 1, 5), (-6, 4, 5), (-2, 7, 9), (-1, 3, 4)]"
   ]
  },
  {
   "cell_type": "code",
   "execution_count": 107,
   "metadata": {},
   "outputs": [
    {
     "ename": "NameError",
     "evalue": "name 'itr' is not defined",
     "output_type": "error",
     "traceback": [
      "\u001b[0;31m---------------------------------------------------------------------------\u001b[0m",
      "\u001b[0;31mNameError\u001b[0m                                 Traceback (most recent call last)",
      "\u001b[0;32m<ipython-input-107-8275598fe8ed>\u001b[0m in \u001b[0;36m<module>\u001b[0;34m\u001b[0m\n\u001b[0;32m----> 1\u001b[0;31m \u001b[0mitr\u001b[0m\u001b[0;34m\u001b[0m\u001b[0;34m\u001b[0m\u001b[0m\n\u001b[0m",
      "\u001b[0;31mNameError\u001b[0m: name 'itr' is not defined"
     ]
    }
   ],
   "source": [
    "itr"
   ]
  },
  {
   "cell_type": "code",
   "execution_count": null,
   "metadata": {},
   "outputs": [],
   "source": []
  }
 ],
 "metadata": {
  "kernelspec": {
   "display_name": "Python 3",
   "language": "python",
   "name": "python3"
  },
  "language_info": {
   "codemirror_mode": {
    "name": "ipython",
    "version": 3
   },
   "file_extension": ".py",
   "mimetype": "text/x-python",
   "name": "python",
   "nbconvert_exporter": "python",
   "pygments_lexer": "ipython3",
   "version": "3.8.3"
  }
 },
 "nbformat": 4,
 "nbformat_minor": 4
}
