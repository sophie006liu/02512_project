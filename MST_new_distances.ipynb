{
  "cells": [
    {
      "cell_type": "code",
      "execution_count": 1,
      "metadata": {
        "id": "uU5LzA19rmXG"
      },
      "outputs": [],
      "source": [
        "import csv\n",
        "import sys\n",
        "import numpy as np\n",
        "import pandas as pd\n",
        "import math\n",
        "import networkx\n",
        "import matplotlib.pyplot as plt"
      ]
    },
    {
      "cell_type": "code",
      "execution_count": 2,
      "metadata": {
        "colab": {
          "base_uri": "https://localhost:8080/"
        },
        "id": "RFq76bpBtI4x",
        "outputId": "4a962956-8b24-45eb-84fb-e47a751466ab"
      },
      "outputs": [
        {
          "data": {
            "text/plain": [
              "131072"
            ]
          },
          "execution_count": 2,
          "metadata": {},
          "output_type": "execute_result"
        }
      ],
      "source": [
        "# increase field size to accomodate very high dimensional csv data\n",
        "csv.field_size_limit(25000)"
      ]
    },
    {
      "cell_type": "code",
      "execution_count": 3,
      "metadata": {
        "colab": {
          "base_uri": "https://localhost:8080/"
        },
        "id": "NZynVELwrw6V",
        "outputId": "9f281f21-8286-42eb-d9d5-c17895c824ab"
      },
      "outputs": [],
      "source": [
        "\n",
        "def load_centroids(centroidsPath):\n",
        "  centroids = []\n",
        "  with open(centroidsPath, newline='') as csvfile:\n",
        "      csvReader = csv.reader(csvfile, delimiter=',', quotechar='|')\n",
        "      next(csvReader)\n",
        "      for r in csvReader:\n",
        "        row = []\n",
        "        for c in r:\n",
        "          row.append(float(c))\n",
        "        centroids.append(row)\n",
        "\n",
        "  centroids = np.array(centroids)\n",
        "  centroids = np.delete(centroids, 0, 1) # Delete first column, which is the cluster labels\n",
        "  print(centroids.shape) # Should be (10, 23579) for (clusters, genes)\n",
        "  return centroids"
      ]
    },
    {
      "cell_type": "code",
      "execution_count": 5,
      "metadata": {},
      "outputs": [
        {
          "name": "stdout",
          "output_type": "stream",
          "text": [
            "(10, 23579)\n",
            "(9, 1)\n",
            "(9, 1)\n",
            "(9, 1)\n"
          ]
        }
      ],
      "source": [
        "originalCentroids = load_centroids('./centroids.csv')\n",
        "pcaCentroids = load_centroids('./pca,kmeans_centroids.csv')\n",
        "svdCentroids = load_centroids('./svd,kmeans_centroids.csv')\n",
        "tsneCentroids = load_centroids('./tsne,kmeans_centroids.csv')"
      ]
    },
    {
      "cell_type": "code",
      "execution_count": 6,
      "metadata": {},
      "outputs": [],
      "source": [
        "# Converts gene labels to indices (helper function for computeDistanceSubsetGenes)\n",
        "samplesPath = './samples100.csv'\n",
        "samples = pd.read_csv(samplesPath)\n",
        "\n",
        "def genes_to_index_list(genes):\n",
        "    index_list = []\n",
        "    for gene in genes:\n",
        "        index_list += samples['Unnamed: 0'].loc[samples['Unnamed: 0'] == gene].index.tolist()\n",
        "    return index_list\n",
        "\n",
        "def index_to_gene(index):\n",
        "    return samples['Unnamed: 0'][index]"
      ]
    },
    {
      "cell_type": "code",
      "execution_count": 7,
      "metadata": {
        "colab": {
          "base_uri": "https://localhost:8080/"
        },
        "id": "yg36z_9cuwrT",
        "outputId": "29df7379-4a74-4e1d-9b72-8bb0dfa55975"
      },
      "outputs": [],
      "source": [
        "# compute euclidean distances between cluster centroids\n",
        "def computeDistance(centroids):\n",
        "  distances = [[0 for _ in range(len(centroids))] for _ in range(len(centroids))]\n",
        "  for i in range(len(centroids)):\n",
        "    for j in range(len(centroids)):\n",
        "      curDistance = 0\n",
        "      for gene in range(len(centroids[0])):\n",
        "        curDistance += (centroids[i][gene] - centroids[j][gene])**2\n",
        "      distance = math.sqrt(curDistance)\n",
        "      distances[i][j] = distance\n",
        "      distances[j][i] = distance\n",
        "  return distances\n",
        "\n",
        "# alternative distance function that uses a subset of the genes\n",
        "def computeDistanceSubsetGenes(centroids, genes):\n",
        "  index_list = genes_to_index_list(genes)\n",
        "  distances = [[0 for _ in range(len(centroids))] for _ in range(len(centroids))]\n",
        "  for i in range(len(centroids)):\n",
        "    for j in range(len(centroids)):\n",
        "      curDistance = 0\n",
        "      for gene in range(len(centroids[0])):\n",
        "        if gene in index_list:\n",
        "          curDistance += (centroids[i][gene] - centroids[j][gene])**2\n",
        "      distance = math.sqrt(curDistance)\n",
        "      distances[i][j] = distance\n",
        "      distances[j][i] = distance\n",
        "  return distances\n",
        "\n",
        "# alternative distance function that weights a subset of the genes\n",
        "# genes_weighed should be a dict with gene names as keys and weights as values\n",
        "def computeDistanceSubsetGenesWeighted(centroids, genes_weighted):\n",
        "  genes = genes_weighted.keys()\n",
        "  index_list = genes_to_index_list(genes)\n",
        "  distances = [[0 for _ in range(len(centroids))] for _ in range(len(centroids))]\n",
        "  for i in range(len(centroids)):\n",
        "    for j in range(len(centroids)):\n",
        "      curDistance = 0\n",
        "      for gene in range(len(centroids[0])):\n",
        "        if gene in index_list:\n",
        "          weight = genes_weighted[index_to_gene(gene)]\n",
        "          curDistance += (weight*(centroids[i][gene] - centroids[j][gene]))**2\n",
        "        else:\n",
        "          curDistance += (centroids[i][gene] - centroids[j][gene])**2\n",
        "      distance = math.sqrt(curDistance)\n",
        "      distances[i][j] = distance\n",
        "      distances[j][i] = distance\n",
        "  return distances\n",
        "\n",
        "transition_genes = {'0610009D07Rik,chr12',\n",
        " '0610010K14Rik,chr11',\n",
        " '0610012G03Rik,chr16',\n",
        " '1110038B12Rik,chr17',\n",
        " '1500012F01Rik,chr2',\n",
        " '2010107E04Rik,chr12',\n",
        " '2410004N09Rik,chr18'}\n",
        "transition_genes_weighted = {gene: 10 for gene in transition_genes}\n",
        "\n",
        "euclidOrig = computeDistance(originalCentroids)\n",
        "subsetOrig = computeDistanceSubsetGenes(originalCentroids, transition_genes)\n",
        "weightedOrig = computeDistanceSubsetGenesWeighted(originalCentroids, transition_genes_weighted)\n",
        "\n",
        "euclidPCA = computeDistance(pcaCentroids)\n",
        "subsetPCA = computeDistanceSubsetGenes(pcaCentroids, transition_genes)\n",
        "weightedPCA = computeDistanceSubsetGenesWeighted(pcaCentroids, transition_genes_weighted)\n",
        "\n",
        "euclidSVD = computeDistance(svdCentroids)\n",
        "subsetSVD = computeDistanceSubsetGenes(svdCentroids, transition_genes)\n",
        "weightedSVD = computeDistanceSubsetGenesWeighted(svdCentroids, transition_genes_weighted)\n",
        "\n",
        "euclidTSNE = computeDistance(tsneCentroids)\n",
        "subsetTSNE = computeDistanceSubsetGenes(tsneCentroids, transition_genes)\n",
        "weightedTSNE = computeDistanceSubsetGenesWeighted(tsneCentroids, transition_genes_weighted)\n",
        "\n",
        "centDistPairs = [(originalCentroids, euclidOrig), (originalCentroids, subsetOrig), (originalCentroids, weightedOrig),\n",
        "(pcaCentroids, euclidPCA), (pcaCentroids, subsetPCA), (pcaCentroids, weightedPCA),\n",
        "(svdCentroids, euclidSVD), (svdCentroids, subsetSVD), (svdCentroids, weightedSVD),\n",
        "(tsneCentroids, euclidTSNE), (tsneCentroids, subsetTSNE), (tsneCentroids, weightedTSNE)]\n"
      ]
    },
    {
      "cell_type": "code",
      "execution_count": 8,
      "metadata": {
        "colab": {
          "base_uri": "https://localhost:8080/"
        },
        "id": "CS6Nk3VJ2zSM",
        "outputId": "489d6678-6f47-4466-f37c-bcad9b28b25b"
      },
      "outputs": [],
      "source": [
        "# create graph\n",
        "def createGraph(centroids, distances):\n",
        "  V = set(range(len(centroids)))\n",
        "  E = set()\n",
        "  for i in range(len(distances)):\n",
        "    for j in range(i, len(distances)):\n",
        "      dist = distances[i][j]\n",
        "      if dist != 0:\n",
        "        E.add((dist, i, j))\n",
        "  return V,E"
      ]
    },
    {
      "cell_type": "code",
      "execution_count": 9,
      "metadata": {
        "colab": {
          "base_uri": "https://localhost:8080/"
        },
        "id": "CNFY2t7HxANP",
        "outputId": "90f57db6-61eb-4057-904e-8b4322f5c454"
      },
      "outputs": [
        {
          "ename": "NameError",
          "evalue": "name 'V' is not defined",
          "output_type": "error",
          "traceback": [
            "\u001b[1;31m---------------------------------------------------------------------------\u001b[0m",
            "\u001b[1;31mNameError\u001b[0m                                 Traceback (most recent call last)",
            "Cell \u001b[1;32mIn[9], line 36\u001b[0m\n\u001b[0;32m     32\u001b[0m             unionFind[u] \u001b[39m=\u001b[39m set1\n\u001b[0;32m     34\u001b[0m   \u001b[39mreturn\u001b[39;00m MST\n\u001b[1;32m---> 36\u001b[0m MST \u001b[39m=\u001b[39m kruskals(V, E)\n\u001b[0;32m     37\u001b[0m \u001b[39mprint\u001b[39m(\u001b[39mlen\u001b[39m(MST), MST)\n",
            "\u001b[1;31mNameError\u001b[0m: name 'V' is not defined"
          ]
        }
      ],
      "source": [
        "def kruskals(V, E):\n",
        "  MST = set()\n",
        "  unionFind = {}\n",
        "  setCounts = [0 for _ in range(len(V))]\n",
        "\n",
        "  for vertex in V:\n",
        "    unionFind[vertex] = vertex\n",
        "    setCounts[vertex] = 1\n",
        "\n",
        "  sortedEdges = sorted(E)\n",
        "  for (dist, v1, v2) in sortedEdges:\n",
        "\n",
        "    # check if added edge creates a cycle\n",
        "    set1, set2 = unionFind[v1], unionFind[v2]\n",
        "    if set1 != set2:\n",
        "      \n",
        "      # add to current MST\n",
        "      MST.add((dist,v1,v2))\n",
        "\n",
        "      # Merge unionFind sets after adding edge\n",
        "      if setCounts[v1] < setCounts[v2]:\n",
        "        setCounts[v2] += setCounts[v1]\n",
        "        setCounts[v1] = 0\n",
        "        for u in unionFind:\n",
        "          if unionFind[u] == set1:\n",
        "            unionFind[u] = set2\n",
        "      else:\n",
        "        setCounts[v1] += setCounts[v2]\n",
        "        setCounts[v2] = 0\n",
        "        for u in unionFind:\n",
        "          if unionFind[u] == set2:\n",
        "            unionFind[u] = set1\n",
        "\n",
        "  return MST\n",
        "\n",
        "# MST = kruskals(V, E)\n",
        "# print(len(MST), MST)"
      ]
    },
    {
      "cell_type": "code",
      "execution_count": null,
      "metadata": {
        "colab": {
          "base_uri": "https://localhost:8080/",
          "height": 248
        },
        "id": "UwpARmmV4p4W",
        "outputId": "0097d323-6e06-440e-9cfb-41ca25ef9573"
      },
      "outputs": [
        {
          "data": {
            "image/png": "[encoded data removed]",
            "text/plain": [
              "<Figure size 432x288 with 1 Axes>"
            ]
          },
          "metadata": {},
          "output_type": "display_data"
        }
      ],
      "source": [
        "labels = [\"MST from Original Clusters with Euclidean Distance\", \n",
        "          \"MST from Original Clusters with Transition Genes Distance\",\n",
        "          \"MST from Original Clusters with Weighted Transition Genes Distance\",\n",
        "          \"MST from PCA Clusters with Euclidean Distance\", \n",
        "          \"MST from PCA Clusters with Transition Genes Distance\",\n",
        "          \"MST from PCA Clusters with Weighted Transition Genes Distance\",\n",
        "          \"MST from SVD Clusters with Euclidean Distance\", \n",
        "          \"MST from SVD Clusters with Transition Genes Distance\",\n",
        "          \"MST from SVD Clusters with Weighted Transition Genes Distance\",\n",
        "          \"MST from tSNE Clusters with Euclidean Distance\", \n",
        "          \"MST from tSNE Clusters with Transition Genes Distance\",\n",
        "          \"MST from tSNE Clusters with Weighted Transition Genes Distance\"]\n",
        "\n",
        "for i in range(len(centDistPairs)):\n",
        "\n",
        "    (centroids, distances) = centDistPairs[i]\n",
        "    \n",
        "    V,E = createGraph(centroids,distances)\n",
        "    MST = kruskals(V,E)\n",
        "\n",
        "    # visualize graph\n",
        "    MSTEdges = [(i,j) for (dist,i,j) in MST]\n",
        "\n",
        "    G = networkx.Graph()\n",
        "    G.add_edges_from(MSTEdges)\n",
        "    networkx.draw_networkx(G)\n",
        "    plt.show()\n",
        "    plt.title(labels[i])\n",
        "    plt.savefig(labels[i] + \".jpg\")"
      ]
    }
  ],
  "metadata": {
    "colab": {
      "provenance": []
    },
    "kernelspec": {
      "display_name": "Python 3.8.10 64-bit (microsoft store)",
      "language": "python",
      "name": "python3"
    },
    "language_info": {
      "codemirror_mode": {
        "name": "ipython",
        "version": 3
      },
      "file_extension": ".py",
      "mimetype": "text/x-python",
      "name": "python",
      "nbconvert_exporter": "python",
      "pygments_lexer": "ipython3",
      "version": "3.8.10"
    },
    "vscode": {
      "interpreter": {
        "hash": "6b9ec0f0a86bbeb2450986afa8e2b7c201fd99f9220b690ab4232f807894cac0"
      }
    }
  },
  "nbformat": 4,
  "nbformat_minor": 0
}
