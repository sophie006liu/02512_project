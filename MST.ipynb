{
  "cells": [
    {
      "cell_type": "code",
      "execution_count": 9,
      "metadata": {
        "id": "uU5LzA19rmXG"
      },
      "outputs": [],
      "source": [
        "import csv\n",
        "import sys\n",
        "import numpy as np\n",
        "import math\n",
        "import networkx\n",
        "import matplotlib.pyplot as plt"
      ]
    },
    {
      "cell_type": "code",
      "execution_count": 10,
      "metadata": {
        "colab": {
          "base_uri": "https://localhost:8080/"
        },
        "id": "RFq76bpBtI4x",
        "outputId": "4a962956-8b24-45eb-84fb-e47a751466ab"
      },
      "outputs": [
        {
          "data": {
            "text/plain": [
              "25000"
            ]
          },
          "execution_count": 10,
          "metadata": {},
          "output_type": "execute_result"
        }
      ],
      "source": [
        "# increase field size to accomodate very high dimensional csv data\n",
        "csv.field_size_limit(25000)"
      ]
    },
    {
      "cell_type": "code",
      "execution_count": 11,
      "metadata": {
        "colab": {
          "base_uri": "https://localhost:8080/"
        },
        "id": "NZynVELwrw6V",
        "outputId": "9f281f21-8286-42eb-d9d5-c17895c824ab"
      },
      "outputs": [
        {
          "name": "stdout",
          "output_type": "stream",
          "text": [
            "(10, 23580)\n"
          ]
        }
      ],
      "source": [
        "centroidsPath = './centroids.csv'\n",
        "\n",
        "centroids = []\n",
        "with open(centroidsPath, newline='') as csvfile:\n",
        "    csvReader = csv.reader(csvfile, delimiter=',', quotechar='|')\n",
        "    next(csvReader)\n",
        "    for r in csvReader:\n",
        "      row = []\n",
        "      for c in r:\n",
        "        row.append(float(c))\n",
        "      centroids.append(row)\n",
        "\n",
        "centroids = np.array(centroids)\n",
        "print(centroids.shape)"
      ]
    },
    {
      "cell_type": "code",
      "execution_count": 12,
      "metadata": {
        "colab": {
          "base_uri": "https://localhost:8080/"
        },
        "id": "yg36z_9cuwrT",
        "outputId": "29df7379-4a74-4e1d-9b72-8bb0dfa55975"
      },
      "outputs": [],
      "source": [
        "# compute euclidean distances between cluster centroids\n",
        "def computeDistance(centroids):\n",
        "  distances = [[0 for _ in range(len(centroids))] for _ in range(len(centroids))]\n",
        "  for i in range(len(centroids)):\n",
        "    for j in range(len(centroids)):\n",
        "      curDistance = 0\n",
        "      for gene in range(len(centroids[0])):\n",
        "        curDistance += (centroids[i][gene] - centroids[j][gene])**2\n",
        "      distance = math.sqrt(curDistance)\n",
        "      distances[i][j] = distance\n",
        "      distances[j][i] = distance\n",
        "  return distances\n",
        "\n",
        "distances = computeDistance(centroids)\n"
      ]
    },
    {
      "cell_type": "code",
      "execution_count": 13,
      "metadata": {
        "colab": {
          "base_uri": "https://localhost:8080/"
        },
        "id": "CS6Nk3VJ2zSM",
        "outputId": "489d6678-6f47-4466-f37c-bcad9b28b25b"
      },
      "outputs": [],
      "source": [
        "# create graph\n",
        "V = set(range(len(centroids)))\n",
        "E = set()\n",
        "for i in range(len(distances)):\n",
        "  for j in range(i, len(distances)):\n",
        "    dist = distances[i][j]\n",
        "    if dist != 0:\n",
        "      E.add((dist, i, j))"
      ]
    },
    {
      "cell_type": "code",
      "execution_count": 14,
      "metadata": {
        "colab": {
          "base_uri": "https://localhost:8080/"
        },
        "id": "CNFY2t7HxANP",
        "outputId": "90f57db6-61eb-4057-904e-8b4322f5c454"
      },
      "outputs": [
        {
          "name": "stdout",
          "output_type": "stream",
          "text": [
            "9 {(123.18743593325993, 1, 2), (145.0627518104145, 4, 5), (191.09435950738552, 5, 7), (121.23326467108733, 5, 9), (124.4977444439962, 2, 6), (137.1679244449211, 2, 8), (168.8240578235223, 3, 4), (167.64727724571333, 0, 3), (118.4935703930357, 1, 9)}\n"
          ]
        }
      ],
      "source": [
        "def kruskals(V, E):\n",
        "  MST = set()\n",
        "  unionFind = {}\n",
        "  setCounts = [0 for _ in range(len(V))]\n",
        "\n",
        "  for vertex in V:\n",
        "    unionFind[vertex] = vertex\n",
        "    setCounts[vertex] = 1\n",
        "\n",
        "  sortedEdges = sorted(E)\n",
        "  for (dist, v1, v2) in sortedEdges:\n",
        "\n",
        "    # check if added edge creates a cycle\n",
        "    set1, set2 = unionFind[v1], unionFind[v2]\n",
        "    if set1 != set2:\n",
        "      \n",
        "      # add to current MST\n",
        "      MST.add((dist,v1,v2))\n",
        "\n",
        "      # Merge unionFind sets after adding edge\n",
        "      if setCounts[v1] < setCounts[v2]:\n",
        "        setCounts[v2] += setCounts[v1]\n",
        "        setCounts[v1] = 0\n",
        "        for u in unionFind:\n",
        "          if unionFind[u] == set1:\n",
        "            unionFind[u] = set2\n",
        "      else:\n",
        "        setCounts[v1] += setCounts[v2]\n",
        "        setCounts[v2] = 0\n",
        "        for u in unionFind:\n",
        "          if unionFind[u] == set2:\n",
        "            unionFind[u] = set1\n",
        "\n",
        "  return MST\n",
        "\n",
        "MST = kruskals(V, E)\n",
        "print(len(MST), MST)"
      ]
    },
    {
      "cell_type": "code",
      "execution_count": 15,
      "metadata": {
        "colab": {
          "base_uri": "https://localhost:8080/",
          "height": 248
        },
        "id": "UwpARmmV4p4W",
        "outputId": "0097d323-6e06-440e-9cfb-41ca25ef9573"
      },
      "outputs": [
        {
          "data": {
            "image/png": "[encoded data removed]",
            "text/plain": [
              "<Figure size 640x480 with 1 Axes>"
            ]
          },
          "metadata": {},
          "output_type": "display_data"
        }
      ],
      "source": [
        "# visualize graph\n",
        "MSTEdges = [(i,j) for (dist,i,j) in MST]\n",
        "\n",
        "G = networkx.Graph()\n",
        "G.add_edges_from(MSTEdges)\n",
        "networkx.draw_networkx(G)\n",
        "plt.show()"
      ]
    }
  ],
  "metadata": {
    "colab": {
      "provenance": []
    },
    "kernelspec": {
      "display_name": "Python 3.8.10 64-bit (microsoft store)",
      "language": "python",
      "name": "python3"
    },
    "language_info": {
      "codemirror_mode": {
        "name": "ipython",
        "version": 3
      },
      "file_extension": ".py",
      "mimetype": "text/x-python",
      "name": "python",
      "nbconvert_exporter": "python",
      "pygments_lexer": "ipython3",
      "version": "3.8.10"
    },
    "vscode": {
      "interpreter": {
        "hash": "6b9ec0f0a86bbeb2450986afa8e2b7c201fd99f9220b690ab4232f807894cac0"
      }
    }
  },
  "nbformat": 4,
  "nbformat_minor": 0
}
