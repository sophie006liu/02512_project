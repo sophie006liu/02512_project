{
  "cells": [
    {
      "cell_type": "code",
      "execution_count": 1,
      "metadata": {
        "id": "uU5LzA19rmXG"
      },
      "outputs": [],
      "source": [
        "import csv\n",
        "import sys\n",
        "import numpy as np\n",
        "import math\n",
        "import networkx\n",
        "import matplotlib.pyplot as plt"
      ]
    },
    {
      "cell_type": "code",
      "execution_count": 2,
      "metadata": {
        "colab": {
          "base_uri": "https://localhost:8080/"
        },
        "id": "RFq76bpBtI4x",
        "outputId": "4a962956-8b24-45eb-84fb-e47a751466ab"
      },
      "outputs": [
        {
          "data": {
            "text/plain": [
              "131072"
            ]
          },
          "execution_count": 2,
          "metadata": {},
          "output_type": "execute_result"
        }
      ],
      "source": [
        "# increase field size to accomodate very high dimensional csv data\n",
        "csv.field_size_limit(25000)"
      ]
    },
    {
      "cell_type": "code",
      "execution_count": 3,
      "metadata": {
        "colab": {
          "base_uri": "https://localhost:8080/"
        },
        "id": "NZynVELwrw6V",
        "outputId": "9f281f21-8286-42eb-d9d5-c17895c824ab"
      },
      "outputs": [
        {
          "name": "stdout",
          "output_type": "stream",
          "text": [
            "(10, 23579)\n"
          ]
        }
      ],
      "source": [
        "centroidsPath = './centroids.csv'\n",
        "\n",
        "centroids = []\n",
        "with open(centroidsPath, newline='') as csvfile:\n",
        "    csvReader = csv.reader(csvfile, delimiter=',', quotechar='|')\n",
        "    next(csvReader)\n",
        "    for r in csvReader:\n",
        "      row = []\n",
        "      for c in r:\n",
        "        row.append(float(c))\n",
        "      centroids.append(row)\n",
        "\n",
        "centroids = np.array(centroids)\n",
        "centroids = np.delete(centroids, 0, 1) # Delete first column, which is the cluster labels\n",
        "print(centroids.shape) # Should be (10, 23579) for (clusters, genes)"
      ]
    },
    {
      "cell_type": "code",
      "execution_count": 4,
      "metadata": {
        "colab": {
          "base_uri": "https://localhost:8080/"
        },
        "id": "yg36z_9cuwrT",
        "outputId": "29df7379-4a74-4e1d-9b72-8bb0dfa55975"
      },
      "outputs": [],
      "source": [
        "# compute euclidean distances between cluster centroids\n",
        "def computeDistance(centroids):\n",
        "  distances = [[0 for _ in range(len(centroids))] for _ in range(len(centroids))]\n",
        "  for i in range(len(centroids)):\n",
        "    for j in range(len(centroids)):\n",
        "      curDistance = 0\n",
        "      for gene in range(len(centroids[0])):\n",
        "        curDistance += (centroids[i][gene] - centroids[j][gene])**2\n",
        "      distance = math.sqrt(curDistance)\n",
        "      distances[i][j] = distance\n",
        "      distances[j][i] = distance\n",
        "  return distances\n",
        "\n",
        "distances = computeDistance(centroids)\n"
      ]
    },
    {
      "cell_type": "code",
      "execution_count": 5,
      "metadata": {
        "colab": {
          "base_uri": "https://localhost:8080/"
        },
        "id": "CS6Nk3VJ2zSM",
        "outputId": "489d6678-6f47-4466-f37c-bcad9b28b25b"
      },
      "outputs": [],
      "source": [
        "# create graph\n",
        "V = set(range(len(centroids)))\n",
        "E = set()\n",
        "for i in range(len(distances)):\n",
        "  for j in range(i, len(distances)):\n",
        "    dist = distances[i][j]\n",
        "    if dist != 0:\n",
        "      E.add((dist, i, j))"
      ]
    },
    {
      "cell_type": "code",
      "execution_count": 6,
      "metadata": {
        "colab": {
          "base_uri": "https://localhost:8080/"
        },
        "id": "CNFY2t7HxANP",
        "outputId": "90f57db6-61eb-4057-904e-8b4322f5c454"
      },
      "outputs": [
        {
          "name": "stdout",
          "output_type": "stream",
          "text": [
            "9 {(123.18337701090606, 1, 2), (145.05930498527115, 4, 5), (191.08389318709703, 5, 7), (118.22320510157603, 1, 9), (124.43346966006608, 2, 6), (167.62043302623061, 0, 3), (137.03663559985554, 2, 8), (168.8210961343398, 3, 4), (121.16725821281057, 5, 9)}\n"
          ]
        }
      ],
      "source": [
        "def kruskals(V, E):\n",
        "  MST = set()\n",
        "  unionFind = {}\n",
        "  setCounts = [0 for _ in range(len(V))]\n",
        "\n",
        "  for vertex in V:\n",
        "    unionFind[vertex] = vertex\n",
        "    setCounts[vertex] = 1\n",
        "\n",
        "  sortedEdges = sorted(E)\n",
        "  for (dist, v1, v2) in sortedEdges:\n",
        "\n",
        "    # check if added edge creates a cycle\n",
        "    set1, set2 = unionFind[v1], unionFind[v2]\n",
        "    if set1 != set2:\n",
        "      \n",
        "      # add to current MST\n",
        "      MST.add((dist,v1,v2))\n",
        "\n",
        "      # Merge unionFind sets after adding edge\n",
        "      if setCounts[v1] < setCounts[v2]:\n",
        "        setCounts[v2] += setCounts[v1]\n",
        "        setCounts[v1] = 0\n",
        "        for u in unionFind:\n",
        "          if unionFind[u] == set1:\n",
        "            unionFind[u] = set2\n",
        "      else:\n",
        "        setCounts[v1] += setCounts[v2]\n",
        "        setCounts[v2] = 0\n",
        "        for u in unionFind:\n",
        "          if unionFind[u] == set2:\n",
        "            unionFind[u] = set1\n",
        "\n",
        "  return MST\n",
        "\n",
        "MST = kruskals(V, E)\n",
        "print(len(MST), MST)"
      ]
    },
    {
      "cell_type": "code",
      "execution_count": 7,
      "metadata": {
        "colab": {
          "base_uri": "https://localhost:8080/",
          "height": 248
        },
        "id": "UwpARmmV4p4W",
        "outputId": "0097d323-6e06-440e-9cfb-41ca25ef9573"
      },
      "outputs": [
        {
          "data": {
            "image/png": "[encoded data removed]",
            "text/plain": [
              "<Figure size 432x288 with 1 Axes>"
            ]
          },
          "metadata": {},
          "output_type": "display_data"
        }
      ],
      "source": [
        "# visualize graph\n",
        "MSTEdges = [(i,j) for (dist,i,j) in MST]\n",
        "\n",
        "G = networkx.Graph()\n",
        "G.add_edges_from(MSTEdges)\n",
        "networkx.draw_networkx(G)\n",
        "plt.show()"
      ]
    }
  ],
  "metadata": {
    "colab": {
      "provenance": []
    },
    "kernelspec": {
      "display_name": "Python 3.8.3 ('base')",
      "language": "python",
      "name": "python3"
    },
    "language_info": {
      "codemirror_mode": {
        "name": "ipython",
        "version": 3
      },
      "file_extension": ".py",
      "mimetype": "text/x-python",
      "name": "python",
      "nbconvert_exporter": "python",
      "pygments_lexer": "ipython3",
      "version": "3.8.3"
    },
    "vscode": {
      "interpreter": {
        "hash": "e78d1d7c2ad17303302b31d4cfbe98a71849bd4d3dda140e402138da0b1ced0e"
      }
    }
  },
  "nbformat": 4,
  "nbformat_minor": 0
}
