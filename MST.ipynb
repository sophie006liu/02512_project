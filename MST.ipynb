{
  "cells": [
    {
      "cell_type": "code",
      "execution_count": 50,
      "metadata": {
        "id": "uU5LzA19rmXG"
      },
      "outputs": [],
      "source": [
        "import csv\n",
        "import sys\n",
        "import mistree\n",
        "import numpy as np\n",
        "import math\n",
        "import networkx\n",
        "import matplotlib.pyplot as plt"
      ]
    },
    {
      "cell_type": "code",
      "execution_count": 8,
      "metadata": {
        "colab": {
          "base_uri": "https://localhost:8080/"
        },
        "id": "RFq76bpBtI4x",
        "outputId": "4a962956-8b24-45eb-84fb-e47a751466ab"
      },
      "outputs": [
        {
          "data": {
            "text/plain": [
              "131072"
            ]
          },
          "execution_count": 8,
          "metadata": {},
          "output_type": "execute_result"
        }
      ],
      "source": [
        "# increase field size to accomodate very high dimensional csv data\n",
        "csv.field_size_limit(sys.maxsize)"
      ]
    },
    {
      "cell_type": "code",
      "execution_count": 37,
      "metadata": {
        "colab": {
          "base_uri": "https://localhost:8080/"
        },
        "id": "NZynVELwrw6V",
        "outputId": "9f281f21-8286-42eb-d9d5-c17895c824ab"
      },
      "outputs": [
        {
          "name": "stdout",
          "output_type": "stream",
          "text": [
            "[[ 0.00000000e+00  0.00000000e+00  1.73472348e-18 ...  0.00000000e+00\n",
            "   3.46944695e-18  6.33333333e+00]\n",
            " [ 1.00000000e+00  0.00000000e+00 -1.73472348e-18 ...  0.00000000e+00\n",
            "   3.57142857e-02  4.32142857e+00]\n",
            " [ 2.00000000e+00  0.00000000e+00  0.00000000e+00 ...  0.00000000e+00\n",
            "   0.00000000e+00  4.87500000e+00]\n",
            " ...\n",
            " [ 7.00000000e+00  0.00000000e+00  0.00000000e+00 ...  0.00000000e+00\n",
            "   0.00000000e+00  8.75000000e+00]\n",
            " [ 8.00000000e+00  0.00000000e+00  1.73472348e-18 ...  0.00000000e+00\n",
            "   3.46944695e-18  5.44444444e+00]\n",
            " [ 9.00000000e+00  0.00000000e+00 -1.73472348e-18 ...  0.00000000e+00\n",
            "  -3.46944695e-18  8.60000000e+00]]\n",
            "(10, 23580)\n"
          ]
        }
      ],
      "source": [
        "centroidsPath = './centroids.csv'\n",
        "\n",
        "centroids = []\n",
        "with open(centroidsPath, newline='') as csvfile:\n",
        "    csvReader = csv.reader(csvfile, delimiter=',', quotechar='|')\n",
        "    next(csvReader)\n",
        "    for r in csvReader:\n",
        "      row = []\n",
        "      for c in r:\n",
        "        row.append(float(c))\n",
        "      centroids.append(row)\n",
        "\n",
        "centroids = np.array(centroids)\n",
        "print(centroids)\n",
        "print(centroids.shape)"
      ]
    },
    {
      "cell_type": "code",
      "execution_count": 40,
      "metadata": {
        "colab": {
          "base_uri": "https://localhost:8080/"
        },
        "id": "yg36z_9cuwrT",
        "outputId": "29df7379-4a74-4e1d-9b72-8bb0dfa55975"
      },
      "outputs": [
        {
          "name": "stdout",
          "output_type": "stream",
          "text": [
            "0 0 0.0\n",
            "0 1 223.72412539655753\n",
            "0 2 234.95539566759916\n",
            "0 3 167.64727724571333\n",
            "0 4 243.76332980329275\n",
            "0 5 227.31036949777737\n",
            "0 6 211.48144092841233\n",
            "0 7 261.6286965255873\n",
            "0 8 219.26608785662341\n",
            "0 9 224.05105348536253\n",
            "1 0 223.72412539655753\n",
            "1 1 0.0\n",
            "1 2 123.18743593325993\n",
            "1 3 193.55067759095405\n",
            "1 4 203.5979901217896\n",
            "1 5 126.77862918161503\n",
            "1 6 140.9228427815793\n",
            "1 7 203.90911528403535\n",
            "1 8 146.9251635520853\n",
            "1 9 118.4935703930357\n",
            "2 0 234.95539566759916\n",
            "2 1 123.18743593325993\n",
            "2 2 0.0\n",
            "2 3 233.34318710592345\n",
            "2 4 255.2970313551452\n",
            "2 5 193.7413430317394\n",
            "2 6 124.4977444439962\n",
            "2 7 241.6846715634858\n",
            "2 8 137.1679244449211\n",
            "2 9 180.3291482782252\n",
            "3 0 167.64727724571333\n",
            "3 1 193.55067759095405\n",
            "3 2 233.34318710592345\n",
            "3 3 0.0\n",
            "3 4 168.8240578235223\n",
            "3 5 176.7925168333336\n",
            "3 6 182.07751675437063\n",
            "3 7 260.575444929103\n",
            "3 8 213.28407634472225\n",
            "3 9 181.1728870443926\n",
            "4 0 243.76332980329275\n",
            "4 1 203.5979901217896\n",
            "4 2 255.2970313551452\n",
            "4 3 168.8240578235223\n",
            "4 4 0.0\n",
            "4 5 145.0627518104145\n",
            "4 6 197.44058500581573\n",
            "4 7 267.6396831562913\n",
            "4 8 220.10223319074848\n",
            "4 9 177.60201997725179\n",
            "5 0 227.31036949777737\n",
            "5 1 126.77862918161503\n",
            "5 2 193.7413430317394\n",
            "5 3 176.7925168333336\n",
            "5 4 145.0627518104145\n",
            "5 5 0.0\n",
            "5 6 172.90835006054547\n",
            "5 7 191.09435950738552\n",
            "5 8 165.94927975953615\n",
            "5 9 121.23326467108733\n",
            "6 0 211.48144092841233\n",
            "6 1 140.9228427815793\n",
            "6 2 124.4977444439962\n",
            "6 3 182.07751675437063\n",
            "6 4 197.44058500581573\n",
            "6 5 172.90835006054547\n",
            "6 6 0.0\n",
            "6 7 257.9690794864286\n",
            "6 8 149.91803698857854\n",
            "6 9 164.1141670749675\n",
            "7 0 261.6286965255873\n",
            "7 1 203.90911528403535\n",
            "7 2 241.6846715634858\n",
            "7 3 260.575444929103\n",
            "7 4 267.6396831562913\n",
            "7 5 191.09435950738552\n",
            "7 6 257.9690794864286\n",
            "7 7 0.0\n",
            "7 8 216.0441216511086\n",
            "7 9 197.13168821881573\n",
            "8 0 219.26608785662341\n",
            "8 1 146.9251635520853\n",
            "8 2 137.1679244449211\n",
            "8 3 213.28407634472225\n",
            "8 4 220.10223319074848\n",
            "8 5 165.94927975953615\n",
            "8 6 149.91803698857854\n",
            "8 7 216.0441216511086\n",
            "8 8 0.0\n",
            "8 9 161.66527834455533\n",
            "9 0 224.05105348536253\n",
            "9 1 118.4935703930357\n",
            "9 2 180.3291482782252\n",
            "9 3 181.1728870443926\n",
            "9 4 177.60201997725179\n",
            "9 5 121.23326467108733\n",
            "9 6 164.1141670749675\n",
            "9 7 197.13168821881573\n",
            "9 8 161.66527834455533\n",
            "9 9 0.0\n",
            "[[0.0, 223.72412539655753, 234.95539566759916, 167.64727724571333, 243.76332980329275, 227.31036949777737, 211.48144092841233, 261.6286965255873, 219.26608785662341, 224.05105348536253], [223.72412539655753, 0.0, 123.18743593325993, 193.55067759095405, 203.5979901217896, 126.77862918161503, 140.9228427815793, 203.90911528403535, 146.9251635520853, 118.4935703930357], [234.95539566759916, 123.18743593325993, 0.0, 233.34318710592345, 255.2970313551452, 193.7413430317394, 124.4977444439962, 241.6846715634858, 137.1679244449211, 180.3291482782252], [167.64727724571333, 193.55067759095405, 233.34318710592345, 0.0, 168.8240578235223, 176.7925168333336, 182.07751675437063, 260.575444929103, 213.28407634472225, 181.1728870443926], [243.76332980329275, 203.5979901217896, 255.2970313551452, 168.8240578235223, 0.0, 145.0627518104145, 197.44058500581573, 267.6396831562913, 220.10223319074848, 177.60201997725179], [227.31036949777737, 126.77862918161503, 193.7413430317394, 176.7925168333336, 145.0627518104145, 0.0, 172.90835006054547, 191.09435950738552, 165.94927975953615, 121.23326467108733], [211.48144092841233, 140.9228427815793, 124.4977444439962, 182.07751675437063, 197.44058500581573, 172.90835006054547, 0.0, 257.9690794864286, 149.91803698857854, 164.1141670749675], [261.6286965255873, 203.90911528403535, 241.6846715634858, 260.575444929103, 267.6396831562913, 191.09435950738552, 257.9690794864286, 0.0, 216.0441216511086, 197.13168821881573], [219.26608785662341, 146.9251635520853, 137.1679244449211, 213.28407634472225, 220.10223319074848, 165.94927975953615, 149.91803698857854, 216.0441216511086, 0.0, 161.66527834455533], [224.05105348536253, 118.4935703930357, 180.3291482782252, 181.1728870443926, 177.60201997725179, 121.23326467108733, 164.1141670749675, 197.13168821881573, 161.66527834455533, 0.0]]\n"
          ]
        }
      ],
      "source": [
        "# compute euclidean distances between cluster centroids\n",
        "def computeDistance(centroids):\n",
        "  distances = [[0 for _ in range(len(centroids))] for _ in range(len(centroids))]\n",
        "  for i in range(len(centroids)):\n",
        "    for j in range(len(centroids)):\n",
        "      curDistance = 0\n",
        "      for gene in range(len(centroids[0])):\n",
        "        curDistance += (centroids[i][gene] - centroids[j][gene])**2\n",
        "      distance = math.sqrt(curDistance)\n",
        "      print(i,j,distance)\n",
        "      distances[i][j] = distance\n",
        "      distances[j][i] = distance\n",
        "  return distances\n",
        "\n",
        "distances = computeDistance(centroids)\n",
        "print(distances)\n"
      ]
    },
    {
      "cell_type": "code",
      "execution_count": 45,
      "metadata": {
        "colab": {
          "base_uri": "https://localhost:8080/"
        },
        "id": "CS6Nk3VJ2zSM",
        "outputId": "489d6678-6f47-4466-f37c-bcad9b28b25b"
      },
      "outputs": [
        {
          "name": "stdout",
          "output_type": "stream",
          "text": [
            "{0, 1, 2, 3, 4, 5, 6, 7, 8, 9} {(219.26608785662341, 0, 8), (126.77862918161503, 1, 5), (177.60201997725179, 4, 9), (220.10223319074848, 4, 8), (211.48144092841233, 0, 6), (197.44058500581573, 4, 6), (124.4977444439962, 2, 6), (213.28407634472225, 3, 8), (172.90835006054547, 5, 6), (223.72412539655753, 0, 1), (140.9228427815793, 1, 6), (168.8240578235223, 3, 4), (193.7413430317394, 2, 5), (255.2970313551452, 2, 4), (224.05105348536253, 0, 9), (182.07751675437063, 3, 6), (193.55067759095405, 1, 3), (181.1728870443926, 3, 9), (165.94927975953615, 5, 8), (203.90911528403535, 1, 7), (227.31036949777737, 0, 5), (180.3291482782252, 2, 9), (261.6286965255873, 0, 7), (191.09435950738552, 5, 7), (167.64727724571333, 0, 3), (241.6846715634858, 2, 7), (145.0627518104145, 4, 5), (234.95539566759916, 0, 2), (203.5979901217896, 1, 4), (233.34318710592345, 2, 3), (137.1679244449211, 2, 8), (197.13168821881573, 7, 9), (257.9690794864286, 6, 7), (121.23326467108733, 5, 9), (118.4935703930357, 1, 9), (149.91803698857854, 6, 8), (146.9251635520853, 1, 8), (243.76332980329275, 0, 4), (267.6396831562913, 4, 7), (216.0441216511086, 7, 8), (123.18743593325993, 1, 2), (164.1141670749675, 6, 9), (161.66527834455533, 8, 9), (260.575444929103, 3, 7), (176.7925168333336, 3, 5)}\n"
          ]
        }
      ],
      "source": [
        "# create graph\n",
        "V = set(range(len(centroids)))\n",
        "E = set()\n",
        "for i in range(len(distances)):\n",
        "  for j in range(i, len(distances)):\n",
        "    dist = distances[i][j]\n",
        "    if dist != 0:\n",
        "      E.add((dist, i, j))\n",
        "\n",
        "print(V, E)"
      ]
    },
    {
      "cell_type": "code",
      "execution_count": 65,
      "metadata": {
        "colab": {
          "base_uri": "https://localhost:8080/"
        },
        "id": "CNFY2t7HxANP",
        "outputId": "90f57db6-61eb-4057-904e-8b4322f5c454"
      },
      "outputs": [
        {
          "name": "stdout",
          "output_type": "stream",
          "text": [
            "9 {(123.18743593325993, 1, 2), (137.1679244449211, 2, 8), (124.4977444439962, 2, 6), (121.23326467108733, 5, 9), (118.4935703930357, 1, 9), (191.09435950738552, 5, 7), (167.64727724571333, 0, 3), (168.8240578235223, 3, 4), (145.0627518104145, 4, 5)}\n"
          ]
        }
      ],
      "source": [
        "def kruskals(V, E):\n",
        "  MST = set()\n",
        "  unionFind = {}\n",
        "  setCounts = [0 for _ in range(len(V))]\n",
        "\n",
        "  for vertex in V:\n",
        "    unionFind[vertex] = vertex\n",
        "    setCounts[vertex] = 1\n",
        "\n",
        "  sortedEdges = sorted(E)\n",
        "  for (dist, v1, v2) in sortedEdges:\n",
        "\n",
        "    # check if added edge creates a cycle\n",
        "    set1, set2 = unionFind[v1], unionFind[v2]\n",
        "    if set1 != set2:\n",
        "      \n",
        "      # add to current MST\n",
        "      MST.add((dist,v1,v2))\n",
        "\n",
        "      # Merge unionFind sets after adding edge\n",
        "      if setCounts[v1] < setCounts[v2]:\n",
        "        setCounts[v2] += setCounts[v1]\n",
        "        setCounts[v1] = 0\n",
        "        for u in unionFind:\n",
        "          if unionFind[u] == set1:\n",
        "            unionFind[u] = set2\n",
        "      else:\n",
        "        setCounts[v1] += setCounts[v2]\n",
        "        setCounts[v2] = 0\n",
        "        for u in unionFind:\n",
        "          if unionFind[u] == set2:\n",
        "            unionFind[u] = set1\n",
        "\n",
        "  return MST\n",
        "\n",
        "MST = kruskals(V, E)\n",
        "print(len(MST), MST)"
      ]
    },
    {
      "cell_type": "code",
      "execution_count": 66,
      "metadata": {
        "colab": {
          "base_uri": "https://localhost:8080/",
          "height": 248
        },
        "id": "UwpARmmV4p4W",
        "outputId": "0097d323-6e06-440e-9cfb-41ca25ef9573"
      },
      "outputs": [
        {
          "data": {
            "image/png": "[encoded data removed]",
            "text/plain": [
              "<Figure size 432x288 with 1 Axes>"
            ]
          },
          "metadata": {},
          "output_type": "display_data"
        }
      ],
      "source": [
        "# visualize graph\n",
        "MSTEdges = [(i,j) for (dist,i,j) in MST]\n",
        "\n",
        "G = networkx.Graph()\n",
        "G.add_edges_from(MSTEdges)\n",
        "networkx.draw_networkx(G)\n",
        "plt.show()"
      ]
    }
  ],
  "metadata": {
    "colab": {
      "provenance": []
    },
    "kernelspec": {
      "display_name": "Python 3",
      "name": "python3"
    },
    "language_info": {
      "name": "python"
    }
  },
  "nbformat": 4,
  "nbformat_minor": 0
}
